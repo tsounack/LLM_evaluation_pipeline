{
 "cells": [
  {
   "cell_type": "code",
   "execution_count": 1,
   "metadata": {},
   "outputs": [],
   "source": [
    "from utils.api import API\n",
    "from utils.dataloader import DataLoader"
   ]
  },
  {
   "cell_type": "code",
   "execution_count": 2,
   "metadata": {},
   "outputs": [],
   "source": [
    "TOGETHER_API_KEY = \"92a6ac4a8feb39c91b4a3f77219e9c452d927f5f4d543d5969cc11c210795719\"\n",
    "BASE_URL = \"https://api.together.xyz\"\n",
    "ALLOWED_SYMPTOMS = ['anxiety', 'concentration problems', 'constipation', 'cough', 'diarrhea', 'fatigue', 'fever', 'headache', 'nausea', 'numbness and tingling', 'pain', 'poor appetite', 'rash', 'shortness of breath', 'trouble drinking fluids', 'vomiting', 'other']"
   ]
  },
  {
   "cell_type": "markdown",
   "metadata": {},
   "source": [
    "Using the API class provides a modular approach to client definition."
   ]
  },
  {
   "cell_type": "code",
   "execution_count": 3,
   "metadata": {},
   "outputs": [],
   "source": [
    "api = API(api_key=TOGETHER_API_KEY, base_url=BASE_URL)\n",
    "client = api.get_openai()"
   ]
  },
  {
   "cell_type": "markdown",
   "metadata": {},
   "source": [
    "The DataLoader class loads the csv files. It verifies their existence and provides testing tools.\n",
    "\n",
    "DataLoader allows for dataframe creation, with uniformization of the labels and column formatting."
   ]
  },
  {
   "cell_type": "code",
   "execution_count": 4,
   "metadata": {},
   "outputs": [
    {
     "name": "stdout",
     "output_type": "stream",
     "text": [
      "['data/batch_1_gs.csv', 'data/batch_2_gs.csv', 'data/batch_3_gs.csv', 'data/batch_4_gs.csv', 'data/batch_5_gs.csv', 'data/batch_6_gs.csv', 'data/batch_7_gs.csv', 'data/batch_8_gs.csv', 'data/batch_9_gs.csv', 'data/batch_10_gs.csv']\n"
     ]
    }
   ],
   "source": [
    "dataloader = DataLoader(path=\"data/\")\n",
    "print(dataloader.list_csv_files())"
   ]
  },
  {
   "cell_type": "code",
   "execution_count": 5,
   "metadata": {},
   "outputs": [],
   "source": [
    "df = dataloader.get_standardized_dataframe(context_col=\"Text Data\",\n",
    "                                           target_col=\"symptom_status_gs\",\n",
    "                                           keep_other_cols=True)"
   ]
  },
  {
   "cell_type": "code",
   "execution_count": 6,
   "metadata": {},
   "outputs": [
    {
     "name": "stdout",
     "output_type": "stream",
     "text": [
      "Symptoms in dataframe are valid.\n"
     ]
    }
   ],
   "source": [
    "dataloader.check_symptoms_validity(allowed_symptoms=ALLOWED_SYMPTOMS,\n",
    "                                   symptoms_col=\"symptom_detail_gs\")"
   ]
  },
  {
   "cell_type": "code",
   "execution_count": 7,
   "metadata": {},
   "outputs": [
    {
     "data": {
      "text/html": [
       "<div>\n",
       "<style scoped>\n",
       "    .dataframe tbody tr th:only-of-type {\n",
       "        vertical-align: middle;\n",
       "    }\n",
       "\n",
       "    .dataframe tbody tr th {\n",
       "        vertical-align: top;\n",
       "    }\n",
       "\n",
       "    .dataframe thead th {\n",
       "        text-align: right;\n",
       "    }\n",
       "</style>\n",
       "<table border=\"1\" class=\"dataframe\">\n",
       "  <thead>\n",
       "    <tr style=\"text-align: right;\">\n",
       "      <th></th>\n",
       "      <th>Context</th>\n",
       "      <th>Symptom Status_bd</th>\n",
       "      <th>Detailed Choices_bd</th>\n",
       "      <th>Source_x</th>\n",
       "      <th>Symptom Status_CVD</th>\n",
       "      <th>Detailed Choices_CVD</th>\n",
       "      <th>Source_y</th>\n",
       "      <th>Differences</th>\n",
       "      <th>Adjudication Decision</th>\n",
       "      <th>Pres_Abs_Diffs</th>\n",
       "      <th>Target</th>\n",
       "      <th>symptom_detail_gs</th>\n",
       "      <th>Symptom Status_KS</th>\n",
       "      <th>Detailed Choices_KS</th>\n",
       "    </tr>\n",
       "  </thead>\n",
       "  <tbody>\n",
       "    <tr>\n",
       "      <th>count</th>\n",
       "      <td>550</td>\n",
       "      <td>268</td>\n",
       "      <td>189</td>\n",
       "      <td>550</td>\n",
       "      <td>550</td>\n",
       "      <td>382</td>\n",
       "      <td>550</td>\n",
       "      <td>128</td>\n",
       "      <td>128</td>\n",
       "      <td>25</td>\n",
       "      <td>550</td>\n",
       "      <td>380</td>\n",
       "      <td>282</td>\n",
       "      <td>185</td>\n",
       "    </tr>\n",
       "    <tr>\n",
       "      <th>unique</th>\n",
       "      <td>550</td>\n",
       "      <td>2</td>\n",
       "      <td>95</td>\n",
       "      <td>50</td>\n",
       "      <td>2</td>\n",
       "      <td>144</td>\n",
       "      <td>50</td>\n",
       "      <td>31</td>\n",
       "      <td>69</td>\n",
       "      <td>2</td>\n",
       "      <td>2</td>\n",
       "      <td>147</td>\n",
       "      <td>2</td>\n",
       "      <td>77</td>\n",
       "    </tr>\n",
       "    <tr>\n",
       "      <th>top</th>\n",
       "      <td>D: How may I help you?\\n\\nP: Hi, umm, so I've ...</td>\n",
       "      <td>Positive</td>\n",
       "      <td>Pain</td>\n",
       "      <td>RES0022.txt</td>\n",
       "      <td>Positive</td>\n",
       "      <td>Pain</td>\n",
       "      <td>RES0022.txt</td>\n",
       "      <td>Other</td>\n",
       "      <td>pain</td>\n",
       "      <td>Negative;Positive</td>\n",
       "      <td>Positive</td>\n",
       "      <td>pain</td>\n",
       "      <td>Positive</td>\n",
       "      <td>Pain</td>\n",
       "    </tr>\n",
       "    <tr>\n",
       "      <th>freq</th>\n",
       "      <td>1</td>\n",
       "      <td>188</td>\n",
       "      <td>17</td>\n",
       "      <td>17</td>\n",
       "      <td>382</td>\n",
       "      <td>38</td>\n",
       "      <td>17</td>\n",
       "      <td>37</td>\n",
       "      <td>20</td>\n",
       "      <td>17</td>\n",
       "      <td>380</td>\n",
       "      <td>50</td>\n",
       "      <td>185</td>\n",
       "      <td>27</td>\n",
       "    </tr>\n",
       "  </tbody>\n",
       "</table>\n",
       "</div>"
      ],
      "text/plain": [
       "                                                  Context Symptom Status_bd  \\\n",
       "count                                                 550               268   \n",
       "unique                                                550                 2   \n",
       "top     D: How may I help you?\\n\\nP: Hi, umm, so I've ...          Positive   \n",
       "freq                                                    1               188   \n",
       "\n",
       "       Detailed Choices_bd     Source_x Symptom Status_CVD  \\\n",
       "count                  189          550                550   \n",
       "unique                  95           50                  2   \n",
       "top                   Pain  RES0022.txt           Positive   \n",
       "freq                    17           17                382   \n",
       "\n",
       "       Detailed Choices_CVD     Source_y Differences Adjudication Decision  \\\n",
       "count                   382          550         128                   128   \n",
       "unique                  144           50          31                    69   \n",
       "top                    Pain  RES0022.txt       Other                  pain   \n",
       "freq                     38           17          37                    20   \n",
       "\n",
       "           Pres_Abs_Diffs    Target symptom_detail_gs Symptom Status_KS  \\\n",
       "count                  25       550               380               282   \n",
       "unique                  2         2               147                 2   \n",
       "top     Negative;Positive  Positive              pain          Positive   \n",
       "freq                   17       380                50               185   \n",
       "\n",
       "       Detailed Choices_KS  \n",
       "count                  185  \n",
       "unique                  77  \n",
       "top                   Pain  \n",
       "freq                    27  "
      ]
     },
     "execution_count": 7,
     "metadata": {},
     "output_type": "execute_result"
    }
   ],
   "source": [
    "df.describe()"
   ]
  },
  {
   "cell_type": "code",
   "execution_count": null,
   "metadata": {},
   "outputs": [],
   "source": []
  }
 ],
 "metadata": {
  "kernelspec": {
   "display_name": "Thomas",
   "language": "python",
   "name": "python3"
  },
  "language_info": {
   "codemirror_mode": {
    "name": "ipython",
    "version": 3
   },
   "file_extension": ".py",
   "mimetype": "text/x-python",
   "name": "python",
   "nbconvert_exporter": "python",
   "pygments_lexer": "ipython3",
   "version": "3.12.2"
  }
 },
 "nbformat": 4,
 "nbformat_minor": 2
}
