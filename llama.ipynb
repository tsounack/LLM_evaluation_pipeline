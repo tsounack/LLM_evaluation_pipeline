{
 "cells": [
  {
   "cell_type": "code",
   "execution_count": 1,
   "metadata": {},
   "outputs": [],
   "source": [
    "from src.api import API\n",
    "from src.dataloader import DataLoader\n",
    "from src.prompter import prompter_factory\n",
    "from src.evaluator import evaluate_model"
   ]
  },
  {
   "cell_type": "code",
   "execution_count": 2,
   "metadata": {},
   "outputs": [],
   "source": [
    "TOGETHER_API_KEY = \"92a6ac4a8feb39c91b4a3f77219e9c452d927f5f4d543d5969cc11c210795719\"\n",
    "BASE_URL = \"https://api.together.xyz\"\n",
    "ALLOWED_SYMPTOMS = ['anxiety', 'concentration problems', 'constipation', 'cough',\n",
    "                    'diarrhea', 'fatigue', 'fever', 'headache', 'nausea', \n",
    "                    'numbness and tingling', 'pain', 'poor appetite', 'rash', \n",
    "                    'shortness of breath', 'trouble drinking fluids', 'vomiting', 'other']"
   ]
  },
  {
   "cell_type": "code",
   "execution_count": 3,
   "metadata": {},
   "outputs": [],
   "source": [
    "api = API(api_key=TOGETHER_API_KEY, base_url=BASE_URL)\n",
    "client = api.get_openai()"
   ]
  },
  {
   "cell_type": "code",
   "execution_count": 4,
   "metadata": {},
   "outputs": [
    {
     "name": "stdout",
     "output_type": "stream",
     "text": [
      "['data/batch_1_gs.csv', 'data/batch_2_gs.csv', 'data/batch_3_gs.csv', 'data/batch_4_gs.csv', 'data/batch_5_gs.csv', 'data/batch_6_gs.csv', 'data/batch_7_gs.csv', 'data/batch_8_gs.csv', 'data/batch_9_gs.csv', 'data/batch_10_gs.csv']\n"
     ]
    }
   ],
   "source": [
    "dataloader = DataLoader(path=\"data/\")\n",
    "print(dataloader.list_csv_files())"
   ]
  },
  {
   "cell_type": "code",
   "execution_count": 5,
   "metadata": {},
   "outputs": [],
   "source": [
    "df = dataloader.get_standardized_dataframe(context_col=\"Text Data\",\n",
    "                                           target_binary_col=\"symptom_status_gs\",\n",
    "                                           target_multilabel_col=\"symptom_detail_gs\",\n",
    "                                           keep_other_cols=True)"
   ]
  },
  {
   "cell_type": "code",
   "execution_count": 50,
   "metadata": {},
   "outputs": [],
   "source": [
    "prompter = prompter_factory(prompter_type=\"binary\",\n",
    "                            client=client,\n",
    "                            model=\"meta-llama/Llama-2-70b-chat-hf\")"
   ]
  },
  {
   "cell_type": "code",
   "execution_count": 51,
   "metadata": {},
   "outputs": [
    {
     "name": "stdout",
     "output_type": "stream",
     "text": [
      "nan\n"
     ]
    }
   ],
   "source": [
    "prompt = \"Are any medical symptoms mentioned in the transcript\"\n",
    "context = \"i have a headache every time i see a cat and i hear voices that are not there\"\n",
    "print(prompter.generate_single(prompt=prompt, context=context))"
   ]
  },
  {
   "cell_type": "code",
   "execution_count": 75,
   "metadata": {},
   "outputs": [],
   "source": [
    "prompt = \"<s>[INST] The following question requires you to output a single word. Your answer will have to be Yes or No. It is very important that you follow this instruction. Are any medical symptoms mentioned in the transcript? i have a headache every time i see a cat and i hear voices that are not there [/INST]\""
   ]
  },
  {
   "cell_type": "code",
   "execution_count": 87,
   "metadata": {},
   "outputs": [],
   "source": [
    "input = f\"\"\"\n",
    "        <<SYS>>\n",
    "        Analyze the text in the content and evaluate if there are any medical symptoms mentioned in the transcript for 'User'.\\n\n",
    "        And return your medical analysis only as : Yes or No. It is of the uttermost importance that your response is either Yes or No.\\n\n",
    "        <</SYS>>\n",
    "        [INST]\n",
    "        User:{context}\n",
    "        [/INST]\\n\n",
    "\n",
    "        Assistant:\n",
    "    \"\"\""
   ]
  },
  {
   "cell_type": "code",
   "execution_count": 91,
   "metadata": {},
   "outputs": [
    {
     "name": "stdout",
     "output_type": "stream",
     "text": [
      "CompletionChoice(finish_reason='length', index=0, logprobs=None, text=\"\\n        <SYS>\\n        Analyze the text in the content and evaluate if there are any medical symptoms mentioned in the transcript for 'User'.\\n\\n        And return your medical analysis only as : Yes or No. It is of the uttermost importance that your response is either Yes or No.\\n\\n        <</SYS>\\n        [INST]\\n        User:i have a headache every time i see a cat and i hear voices that are not\")\n"
     ]
    }
   ],
   "source": [
    "completion = client.completions.create(\n",
    "    model=\"meta-llama/Llama-2-70b-hf\",\n",
    "    temperature=0,\n",
    "    prompt=input,\n",
    "    max_tokens=100,\n",
    ")\n",
    "print(completion.choices[0])"
   ]
  },
  {
   "cell_type": "code",
   "execution_count": 46,
   "metadata": {},
   "outputs": [
    {
     "name": "stdout",
     "output_type": "stream",
     "text": [
      " removing the wheel and caliper. Then, you remove the brake pads and any other components that need to be replaced. Next, you install the new brake pads and reassemble the brake caliper. Finally, you reinstall the wheel and test the brakes to make sure they\n"
     ]
    }
   ],
   "source": [
    "model = \"meta-llama/Llama-2-70b-chat-hf\"\n",
    "\n",
    "prompt = \"\"\"To change the brakes on your car, you start by\"\"\"\n",
    "\n",
    "output = client.completions.create(\n",
    "  prompt = prompt, \n",
    "  model = model, \n",
    "  max_tokens = 64,\n",
    "  temperature = 0,\n",
    "  top_p = 0.7,\n",
    "  #stop = [] # add any sequence you want to stop generating at. \n",
    ")\n",
    "\n",
    "# print generated text\n",
    "print(output.choices[0].text)"
   ]
  },
  {
   "cell_type": "code",
   "execution_count": null,
   "metadata": {},
   "outputs": [],
   "source": []
  }
 ],
 "metadata": {
  "kernelspec": {
   "display_name": "llm-evaluation",
   "language": "python",
   "name": "python3"
  },
  "language_info": {
   "codemirror_mode": {
    "name": "ipython",
    "version": 3
   },
   "file_extension": ".py",
   "mimetype": "text/x-python",
   "name": "python",
   "nbconvert_exporter": "python",
   "pygments_lexer": "ipython3",
   "version": "3.12.2"
  }
 },
 "nbformat": 4,
 "nbformat_minor": 2
}
